{
 "cells": [
  {
   "cell_type": "markdown",
   "metadata": {},
   "source": [
    "# 2016 US Bike Share Activity Snapshot\n",
    "\n",
    "## Table of Contents\n",
    "- [Introduction](#intro)\n",
    "- [Posing Questions](#pose_questions)\n",
    "- [Data Collection and Wrangling](#wrangling)\n",
    "  - [Condensing the Trip Data](#condensing)\n",
    "- [Exploratory Data Analysis](#eda)\n",
    "  - [Statistics](#statistics)\n",
    "  - [Visualizations](#visualizations)\n",
    "- [Performing Your Own Analysis](#eda_continued)\n",
    "- [Conclusions](#conclusions)\n",
    "\n",
    "<a id='intro'></a>\n",
    "## Introduction\n",
    "\n",
    "> **Tip**: Quoted sections like this will provide helpful instructions on how to navigate and use a Jupyter notebook.\n",
    "\n",
    "Over the past decade, bicycle-sharing systems have been growing in number and popularity in cities across the world. Bicycle-sharing systems allow users to rent bicycles for short trips, typically 30 minutes or less. Thanks to the rise in information technologies, it is easy for a user of the system to access a dock within the system to unlock or return bicycles. These technologies also provide a wealth of data that can be used to explore how these bike-sharing systems are used.\n",
    "\n",
    "In this project, you will perform an exploratory analysis on data provided by [Motivate](https://www.motivateco.com/), a bike-share system provider for many major cities in the United States. You will compare the system usage between three large cities: New York City, Chicago, and Washington, DC. You will also see if there are any differences within each system for those users that are registered, regular users and those users that are short-term, casual users."
   ]
  },
  {
   "cell_type": "markdown",
   "metadata": {},
   "source": [
    "<a id='pose_questions'></a>\n",
    "## Posing Questions\n",
    "\n",
    "Before looking at the bike sharing data, you should start by asking questions you might want to understand about the bike share data. Consider, for example, if you were working for Motivate. What kinds of information would you want to know about in order to make smarter business decisions? If you were a user of the bike-share service, what factors might influence how you would want to use the service?\n",
    "\n",
    "**Question 1**: Write at least two questions related to bike sharing that you think could be answered by data.\n",
    "\n",
    "**Answer**: \n",
    "- _Question 1: Normal how long do users use the bike-share service every time?_ \n",
    "- _Question 2: What is the ration of diferent user type registered for each city?_\n",
    "- _Question 3: Is there any difference between the 3 cities for using the bike-share service?_"
   ]
  },
  {
   "cell_type": "markdown",
   "metadata": {},
   "source": [
    "<a id='wrangling'></a>\n",
    "## Data Collection and Wrangling\n",
    "\n",
    "Now it's time to collect and explore our data. In this project, we will focus on the record of individual trips taken in 2016 from our selected cities: New York City, Chicago, and Washington, DC. Each of these cities has a page where we can freely download the trip data.:\n",
    "\n",
    "- New York City (Citi Bike): [Link](https://www.citibikenyc.com/system-data)\n",
    "- Chicago (Divvy): [Link](https://www.divvybikes.com/system-data)\n",
    "- Washington, DC (Capital Bikeshare): [Link](https://www.capitalbikeshare.com/system-data)\n",
    "\n",
    "If you visit these pages, you will notice that each city has a different way of delivering its data. Chicago updates with new data twice a year, Washington DC is quarterly, and New York City is monthly. **However, you do not need to download the data yourself.** The data has already been collected for you in the `/data/` folder of the project files. While the original data for 2016 is spread among multiple files for each city, the files in the `/data/` folder collect all of the trip data for the year into one file per city. Some data wrangling of inconsistencies in timestamp format within each city has already been performed for you. In addition, a random 2% sample of the original data is taken to make the exploration more manageable. \n",
    "\n",
    "**Question 2**: However, there is still a lot of data for us to investigate, so it's a good idea to start off by looking at one entry from each of the cities we're going to analyze. Run the first code cell below to load some packages and functions that you'll be using in your analysis. Then, complete the second code cell to print out the first trip recorded from each of the cities (the second line of each data file).\n",
    "\n",
    "> **Tip**: You can run a code cell like you formatted Markdown cells above by clicking on the cell and using the keyboard shortcut **Shift** + **Enter** or **Shift** + **Return**. Alternatively, a code cell can be executed using the **Play** button in the toolbar after selecting it. While the cell is running, you will see an asterisk in the message to the left of the cell, i.e. `In [*]:`. The asterisk will change into a number to show that execution has completed, e.g. `In [1]`. If there is output, it will show up as `Out [1]:`, with an appropriate number to match the \"In\" number."
   ]
  },
  {
   "cell_type": "code",
   "execution_count": 1,
   "metadata": {
    "collapsed": true
   },
   "outputs": [],
   "source": [
    "## import all necessary packages and functions.\n",
    "import csv # read and write csv files\n",
    "from datetime import datetime # operations to parse dates\n",
    "from pprint import pprint # use to print data structures like dictionaries in\n",
    "                          # a nicer way than the base print function.\n",
    "import pandas as pd\n",
    "import matplotlib.pyplot as plt\n",
    "%matplotlib inline"
   ]
  },
  {
   "cell_type": "code",
   "execution_count": 2,
   "metadata": {},
   "outputs": [
    {
     "name": "stdout",
     "output_type": "stream",
     "text": [
      "\n",
      "City: NYC\n",
      "OrderedDict([('tripduration', '839'),\n",
      "             ('starttime', '1/1/2016 00:09:55'),\n",
      "             ('stoptime', '1/1/2016 00:23:54'),\n",
      "             ('start station id', '532'),\n",
      "             ('start station name', 'S 5 Pl & S 4 St'),\n",
      "             ('start station latitude', '40.710451'),\n",
      "             ('start station longitude', '-73.960876'),\n",
      "             ('end station id', '401'),\n",
      "             ('end station name', 'Allen St & Rivington St'),\n",
      "             ('end station latitude', '40.72019576'),\n",
      "             ('end station longitude', '-73.98997825'),\n",
      "             ('bikeid', '17109'),\n",
      "             ('usertype', 'Customer'),\n",
      "             ('birth year', ''),\n",
      "             ('gender', '0')])\n",
      "\n",
      "City: Chicago\n",
      "OrderedDict([('trip_id', '9080545'),\n",
      "             ('starttime', '3/31/2016 23:30'),\n",
      "             ('stoptime', '3/31/2016 23:46'),\n",
      "             ('bikeid', '2295'),\n",
      "             ('tripduration', '926'),\n",
      "             ('from_station_id', '156'),\n",
      "             ('from_station_name', 'Clark St & Wellington Ave'),\n",
      "             ('to_station_id', '166'),\n",
      "             ('to_station_name', 'Ashland Ave & Wrightwood Ave'),\n",
      "             ('usertype', 'Subscriber'),\n",
      "             ('gender', 'Male'),\n",
      "             ('birthyear', '1990')])\n",
      "\n",
      "City: Washington\n",
      "OrderedDict([('Duration (ms)', '427387'),\n",
      "             ('Start date', '3/31/2016 22:57'),\n",
      "             ('End date', '3/31/2016 23:04'),\n",
      "             ('Start station number', '31602'),\n",
      "             ('Start station', 'Park Rd & Holmead Pl NW'),\n",
      "             ('End station number', '31207'),\n",
      "             ('End station', 'Georgia Ave and Fairmont St NW'),\n",
      "             ('Bike number', 'W20842'),\n",
      "             ('Member Type', 'Registered')])\n"
     ]
    }
   ],
   "source": [
    "def print_first_point(filename):\n",
    "    \"\"\" This function prints and returns the first data point (second row) from\n",
    "    a csv file that includes a header row.\"\"\"\n",
    "    # print city name for reference\n",
    "    city = filename.split('-')[0].split('/')[-1]\n",
    "    print('\\nCity: {}'.format(city))\n",
    "    with open(filename, 'r') as f_in:\n",
    "        ## TODO: Use the csv library to set up a DictReader object. ##\n",
    "        ## see https://docs.python.org/3/library/csv.html           ##\n",
    "        trip_reader = csv.DictReader(f_in)\n",
    "        ## TODO: Use a function on the DictReader object to read the     ##\n",
    "        ## first trip from the data file and store it in a variable.     ##\n",
    "        ## see https://docs.python.org/3/library/csv.html#reader-objects ##\n",
    "        first_trip = trip_reader.__next__()\n",
    "        ## TODO: Use the pprint library to print the first trip. ##\n",
    "        ## see https://docs.python.org/3/library/pprint.html     ##\n",
    "        pprint(first_trip)\n",
    "    # output city name and first trip for later testing\n",
    "    return (city, first_trip)\n",
    "# list of files for each city\n",
    "data_files = ['./data/NYC-CitiBike-2016.csv',\n",
    "              './data/Chicago-Divvy-2016.csv',\n",
    "              './data/Washington-CapitalBikeshare-2016.csv',]\n",
    "# print the first trip from each file, store in dictionary\n",
    "example_trips = {}\n",
    "for data_file in data_files:\n",
    "    city, first_trip = print_first_point(data_file)\n",
    "    example_trips[city] = first_trip"
   ]
  },
  {
   "cell_type": "markdown",
   "metadata": {},
   "source": [
    "If everything has been filled out correctly, you should see below the printout of each city name (which has been parsed from the data file name) that the first trip has been parsed in the form of a dictionary. When you set up a `DictReader` object, the first row of the data file is normally interpreted as column names. Every other row in the data file will use those column names as keys, as a dictionary is generated for each row.\n",
    "\n",
    "This will be useful since we can refer to quantities by an easily-understandable label instead of just a numeric index. For example, if we have a trip stored in the variable `row`, then we would rather get the trip duration from `row['duration']` instead of `row[0]`.\n",
    "\n",
    "<a id='condensing'></a>\n",
    "### Condensing the Trip Data\n",
    "\n",
    "It should also be observable from the above printout that each city provides different information. Even where the information is the same, the column names and formats are sometimes different. To make things as simple as possible when we get to the actual exploration, we should trim and clean the data. Cleaning the data makes sure that the data formats across the cities are consistent, while trimming focuses only on the parts of the data we are most interested in to make the exploration easier to work with.\n",
    "\n",
    "You will generate new data files with five values of interest for each trip: trip duration, starting month, starting hour, day of the week, and user type. Each of these may require additional wrangling depending on the city:\n",
    "\n",
    "- **Duration**: This has been given to us in seconds (New York, Chicago) or milliseconds (Washington). A more natural unit of analysis will be if all the trip durations are given in terms of minutes.\n",
    "- **Month**, **Hour**, **Day of Week**: Ridership volume is likely to change based on the season, time of day, and whether it is a weekday or weekend. Use the start time of the trip to obtain these values. The New York City data includes the seconds in their timestamps, while Washington and Chicago do not. The [`datetime`](https://docs.python.org/3/library/datetime.html) package will be very useful here to make the needed conversions.\n",
    "- **User Type**: It is possible that users who are subscribed to a bike-share system will have different patterns of use compared to users who only have temporary passes. Washington divides its users into two types: 'Registered' for users with annual, monthly, and other longer-term subscriptions, and 'Casual', for users with 24-hour, 3-day, and other short-term passes. The New York and Chicago data uses 'Subscriber' and 'Customer' for these groups, respectively. For consistency, you will convert the Washington labels to match the other two.\n",
    "\n",
    "\n",
    "**Question 3a**: Complete the helper functions in the code cells below to address each of the cleaning tasks described above."
   ]
  },
  {
   "cell_type": "code",
   "execution_count": 3,
   "metadata": {
    "collapsed": true
   },
   "outputs": [],
   "source": [
    "def duration_in_mins(datum, city):\n",
    "    \"\"\"\n",
    "    Takes as input a dictionary containing info about a single trip (datum) and\n",
    "    its origin city (city) and returns the trip duration in units of minutes.\n",
    "    \n",
    "    Remember that Washington is in terms of milliseconds while Chicago and NYC\n",
    "    are in terms of seconds. \n",
    "    \n",
    "    HINT: The csv module reads in all of the data as strings, including numeric\n",
    "    values. You will need a function to convert the strings into an appropriate\n",
    "    numeric type when making your transformations.\n",
    "    see https://docs.python.org/3/library/functions.html\n",
    "    \"\"\"\n",
    "    # YOUR CODE HERE\n",
    "    if city == \"NYC\" or city == \"Chicago\":\n",
    "        duration = int(datum['tripduration'])/60\n",
    "    elif city == \"Washington\":\n",
    "        duration = int(datum['Duration (ms)'])/60000\n",
    "    return duration\n",
    "\n",
    "# Some tests to check that your code works. There should be no output if all of\n",
    "# the assertions pass. The `example_trips` dictionary was obtained from when\n",
    "# you printed the first trip from each of the original data files.\n",
    "tests = {'NYC': 13.9833,\n",
    "         'Chicago': 15.4333,\n",
    "         'Washington': 7.1231}\n",
    "\n",
    "for city in tests:\n",
    "    assert abs(duration_in_mins(example_trips[city], city) - tests[city]) < .001"
   ]
  },
  {
   "cell_type": "code",
   "execution_count": 4,
   "metadata": {
    "collapsed": true
   },
   "outputs": [],
   "source": [
    "def time_of_trip(datum, city):\n",
    "    \"\"\"\n",
    "    Takes as input a dictionary containing info about a single trip (datum) and\n",
    "    its origin city (city) and returns the month, hour, and day of the week in\n",
    "    which the trip was made.\n",
    "    \n",
    "    Remember that NYC includes seconds, while Washington and Chicago do not.\n",
    "    \n",
    "    HINT: You should use the datetime module to parse the original date\n",
    "    strings into a format that is useful for extracting the desired information.\n",
    "    see https://docs.python.org/3/library/datetime.html#strftime-and-strptime-behavior\n",
    "    \"\"\"\n",
    "    \n",
    "    # YOUR CODE HERE\n",
    "    weekdays = ['Monday', 'Tuesday', 'Wednesday', 'Thursday', 'Friday', 'Saturday', 'Sunday']\n",
    "    if city == 'NYC':\n",
    "        dt = datetime.strptime(datum['starttime'],\"%m/%d/%Y %H:%M:%S\")\n",
    "        month = dt.month\n",
    "        hour = dt.hour\n",
    "        day_of_week = weekdays[dt.weekday()]\n",
    "    elif city == 'Washington':\n",
    "        dt = datetime.strptime(datum['Start date'],\"%m/%d/%Y %H:%M\")\n",
    "        month = dt.month\n",
    "        hour = dt.hour\n",
    "        day_of_week = weekdays[dt.weekday()]\n",
    "    elif city == 'Chicago':\n",
    "        dt = datetime.strptime(datum['starttime'], \"%m/%d/%Y %H:%M\")\n",
    "        month = dt.month\n",
    "        hour = dt.hour\n",
    "        day_of_week = weekdays[dt.weekday()]\n",
    "    return (month, hour, day_of_week)\n",
    "\n",
    "\n",
    "# Some tests to check that your code works. There should be no output if all of\n",
    "# the assertions pass. The `example_trips` dictionary was obtained from when\n",
    "# you printed the first trip from each of the original data files.\n",
    "tests = {'NYC': (1, 0, 'Friday'),\n",
    "         'Chicago': (3, 23, 'Thursday'),\n",
    "         'Washington': (3, 22, 'Thursday')}\n",
    "\n",
    "for city in tests:\n",
    "    assert time_of_trip(example_trips[city], city) == tests[city]"
   ]
  },
  {
   "cell_type": "code",
   "execution_count": 5,
   "metadata": {
    "collapsed": true
   },
   "outputs": [],
   "source": [
    "def type_of_user(datum, city):\n",
    "    \"\"\"\n",
    "    Takes as input a dictionary containing info about a single trip (datum) and\n",
    "    its origin city (city) and returns the type of system user that made the\n",
    "    trip.\n",
    "    \n",
    "    Remember that Washington has different category names compared to Chicago\n",
    "    and NYC. \n",
    "    \"\"\"\n",
    "    \n",
    "    # YOUR CODE HERE\n",
    "    if city == 'NYC' or city == 'Chicago':\n",
    "        user_type = datum['usertype']\n",
    "    elif city == 'Washington':\n",
    "        if datum['Member Type'] == 'Registered':\n",
    "            user_type = 'Subscriber'\n",
    "        elif datum['Member Type'] == 'Casual':\n",
    "            user_type = 'Customer'    \n",
    "    return user_type\n",
    "\n",
    "\n",
    "# Some tests to check that your code works. There should be no output if all of\n",
    "# the assertions pass. The `example_trips` dictionary was obtained from when\n",
    "# you printed the first trip from each of the original data files.\n",
    "tests = {'NYC': 'Customer',\n",
    "         'Chicago': 'Subscriber',\n",
    "         'Washington': 'Subscriber'}\n",
    "\n",
    "for city in tests:\n",
    "    assert type_of_user(example_trips[city], city) == tests[city]"
   ]
  },
  {
   "cell_type": "markdown",
   "metadata": {},
   "source": [
    "**Question 3b**: Now, use the helper functions you wrote above to create a condensed data file for each city consisting only of the data fields indicated above. In the `/examples/` folder, you will see an example datafile from the [Bay Area Bike Share](http://www.bayareabikeshare.com/open-data) before and after conversion. Make sure that your output is formatted to be consistent with the example file."
   ]
  },
  {
   "cell_type": "code",
   "execution_count": 6,
   "metadata": {
    "collapsed": true
   },
   "outputs": [],
   "source": [
    "def condense_data(in_file, out_file, city):\n",
    "    \"\"\"\n",
    "    This function takes full data from the specified input file\n",
    "    and writes the condensed data to a specified output file. The city\n",
    "    argument determines how the input file will be parsed.\n",
    "    \n",
    "    HINT: See the cell below to see how the arguments are structured!\n",
    "    \"\"\"\n",
    "    with open(out_file, 'w') as f_out, open(in_file, 'r') as f_in:\n",
    "        # set up csv DictWriter object - writer requires column names for the\n",
    "        # first row as the \"fieldnames\" argument\n",
    "        out_colnames = ['duration', 'month', 'hour', 'day_of_week', 'user_type']        \n",
    "        trip_writer = csv.DictWriter(f_out, fieldnames = out_colnames)\n",
    "        trip_writer.writeheader()\n",
    "        ## TODO: set up csv DictReader object ##\n",
    "        trip_reader = csv.DictReader(f_in)\n",
    "        # collect data from and process each row\n",
    "        for row in trip_reader:\n",
    "            # set up a dictionary to hold the values for the cleaned and trimmed\n",
    "            # data point\n",
    "            new_point = {}\n",
    "            new_point['duration'] = duration_in_mins(row,city)\n",
    "            new_point['month'] = time_of_trip(row,city)[0]\n",
    "            new_point['hour'] = time_of_trip(row,city)[1]\n",
    "            new_point['day_of_week'] = time_of_trip(row,city)[2]\n",
    "            new_point['user_type'] = type_of_user(row, city)\n",
    "            ## TODO: use the helper functions to get the cleaned data from  ##\n",
    "            ## the original data dictionaries.                              ##\n",
    "            ## Note that the keys for the new_point dictionary should match ##\n",
    "            ## the column names set in the DictWriter object above.         ##\n",
    "            \n",
    "\n",
    "            ## TODO: write the processed information to the output file.     ##\n",
    "            ## see https://docs.python.org/3/library/csv.html#writer-objects ##\n",
    "            trip_writer.writerow(new_point)\n",
    "            "
   ]
  },
  {
   "cell_type": "code",
   "execution_count": 7,
   "metadata": {
    "collapsed": true
   },
   "outputs": [],
   "source": [
    "# Run this cell to check your work\n",
    "city_info = {'Washington': {'in_file': './data/Washington-CapitalBikeshare-2016.csv',\n",
    "                            'out_file': './data/Washington-2016-Summary.csv'},\n",
    "             'Chicago': {'in_file': './data/Chicago-Divvy-2016.csv',\n",
    "                         'out_file': './data/Chicago-2016-Summary.csv'},\n",
    "             'NYC': {'in_file': './data/NYC-CitiBike-2016.csv',\n",
    "                     'out_file': './data/NYC-2016-Summary.csv'}}\n",
    "\n",
    "for city, filenames in city_info.items():\n",
    "    condense_data(filenames['in_file'], filenames['out_file'], city)\n",
    "#     print_first_point(filenames['out_file'])"
   ]
  },
  {
   "cell_type": "markdown",
   "metadata": {},
   "source": [
    "> **Tip**: If you save a jupyter Notebook, the output from running code blocks will also be saved. However, the state of your workspace will be reset once a new session is started. Make sure that you run all of the necessary code blocks from your previous session to reestablish variables and functions before picking up where you last left off.\n",
    "\n",
    "<a id='eda'></a>\n",
    "## Exploratory Data Analysis\n",
    "\n",
    "Now that you have the data collected and wrangled, you're ready to start exploring the data. In this section you will write some code to compute descriptive statistics from the data. You will also be introduced to the `matplotlib` library to create some basic histograms of the data.\n",
    "\n",
    "<a id='statistics'></a>\n",
    "### Statistics\n",
    "\n",
    "First, let's compute some basic counts. The first cell below contains a function that uses the csv module to iterate through a provided data file, returning the number of trips made by subscribers and customers. The second cell runs this function on the example Bay Area data in the `/examples/` folder. Modify the cells to answer the question below.\n",
    "\n",
    "**Question 4a**: Which city has the highest number of trips? Which city has the highest proportion of trips made by subscribers? Which city has the highest proportion of trips made by short-term customers?\n",
    "\n",
    "**Answer**: \n",
    "**NYC** has the highest number of trips; **NYC** has the highest proportion of trips made by subscribers; **Chicago** has the highest proportion of trips made by short-term customers."
   ]
  },
  {
   "cell_type": "code",
   "execution_count": 8,
   "metadata": {
    "collapsed": true
   },
   "outputs": [],
   "source": [
    "def number_of_trips(filename):\n",
    "    \"\"\"\n",
    "    This function reads in a file with trip data and reports the number of\n",
    "    trips made by subscribers, customers, and total overall.\n",
    "    \"\"\"\n",
    "    with open(filename, 'r') as f_in:\n",
    "        # set up csv reader object\n",
    "        reader = csv.DictReader(f_in)\n",
    "        # initialize count variables\n",
    "        n_subscribers = 0\n",
    "        n_customers = 0\n",
    "        \n",
    "        # tally up ride types\n",
    "        for row in reader:\n",
    "            if row['user_type'] == 'Subscriber':\n",
    "                n_subscribers += 1\n",
    "            else:\n",
    "                n_customers += 1\n",
    "        \n",
    "        # compute total number of rides\n",
    "        n_total = n_subscribers + n_customers\n",
    "        p_subscribers = n_subscribers / n_total\n",
    "        p_customers = n_customers / n_total\n",
    "        P_subscribers ='{:.1%}'.format(p_subscribers)\n",
    "        P_customers ='{:.1%}'.format(p_customers)\n",
    "        # return tallies as a tuple\n",
    "        return(n_subscribers, n_customers, n_total,P_subscribers, P_customers)\n",
    "               "
   ]
  },
  {
   "cell_type": "code",
   "execution_count": 9,
   "metadata": {},
   "outputs": [
    {
     "name": "stdout",
     "output_type": "stream",
     "text": [
      "Washington (51753, 14573, 66326, '78.0%', '22.0%')\n",
      "NYC (245896, 30902, 276798, '88.8%', '11.2%')\n",
      "Chicago (54982, 17149, 72131, '76.2%', '23.8%')\n",
      "BayArea (5666, 633, 6299, '90.0%', '10.0%')\n"
     ]
    }
   ],
   "source": [
    "## Modify this and the previous cell to answer Question 4a. Remember to run ##\n",
    "## the function on the cleaned data files you created from Question 3. ##\n",
    "\n",
    "city_info = {'Washington': {'out_file': './data/Washington-2016-Summary.csv'},\n",
    "             'NYC': {'out_file': './data/NYC-2016-Summary.csv'},\n",
    "            'Chicago': {'out_file': './data/Chicago-2016-Summary.csv'},\n",
    "            'BayArea':{'out_file':'./examples/BayArea-Y3-Summary.csv'}}\n",
    "\n",
    "for city, filenames in city_info.items():\n",
    "    print(city, number_of_trips(filenames['out_file']))"
   ]
  },
  {
   "cell_type": "markdown",
   "metadata": {},
   "source": [
    "> **Tip**: In order to add additional cells to a notebook, you can use the \"Insert Cell Above\" and \"Insert Cell Below\" options from the menu bar above. There is also an icon in the toolbar for adding new cells, with additional icons for moving the cells up and down the document. By default, new cells are of the code type; you can also specify the cell type (e.g. Code or Markdown) of selected cells from the Cell menu or the dropdown in the toolbar.\n",
    "\n",
    "Now, you will write your own code to continue investigating properties of the data.\n",
    "\n",
    "**Question 4b**: Bike-share systems are designed for riders to take short trips. Most of the time, users are allowed to take trips of 30 minutes or less with no additional charges, with overage charges made for trips of longer than that duration. What is the average trip length for each city? What proportion of rides made in each city are longer than 30 minutes?\n",
    "\n",
    "**Answer**: \n",
    "- The average trip length for Washington is 18 minutes, for NYC is 15 minutes, for Chicago is 16 minutes;\n",
    "- 10.8% of rides in Washington are longer than 30 minutes; 7.3% of riders in NYC are longer than 30 mintures; 8.3% of riders in Chicago are longer than 30 minutes;"
   ]
  },
  {
   "cell_type": "code",
   "execution_count": 10,
   "metadata": {
    "scrolled": true
   },
   "outputs": [
    {
     "name": "stdout",
     "output_type": "stream",
     "text": [
      "Washington (18, '10.8%')\n",
      "NYC (15, '7.3%')\n",
      "Chicago (16, '8.3%')\n",
      "BayArea (14, '3.5%')\n"
     ]
    }
   ],
   "source": [
    "## Use this and additional cells to answer Question 4b.                 ##\n",
    "##                                                                      ##\n",
    "## HINT: The csv module reads in all of the data as strings, including  ##\n",
    "## numeric values. You will need a function to convert the strings      ##\n",
    "## into an appropriate numeric type before you aggregate data.          ##\n",
    "## TIP: For the Bay Area example, the average trip length is 14 minutes ##\n",
    "## and 3.5% of trips are longer than 30 minutes.                        ##\n",
    "def average_trip_length(filename):\n",
    "    with open(filename,'r') as f_in:\n",
    "        reader = csv.DictReader(f_in)\n",
    "        n_over30 = 0\n",
    "        n_less30 = 0\n",
    "        total_trip_over30 = 0\n",
    "        total_trip_less30 = 0\n",
    "        for row in reader:\n",
    "            if float(row['duration']) > 30:\n",
    "                n_over30 += 1\n",
    "                total_trip_over30 += float(row['duration'])\n",
    "            elif float(row['duration']) <= 30:\n",
    "                n_less30 += 1\n",
    "                total_trip_less30 += float(row['duration'])\n",
    "        total_user = n_over30 + n_less30\n",
    "        total_trip = total_trip_over30 + total_trip_less30\n",
    "        average_trip = int(total_trip/total_user)\n",
    "        p_over30 = n_over30/total_user\n",
    "        P_over30 ='{:.1%}'.format(p_over30)\n",
    "        return (average_trip, P_over30)\n",
    "    \n",
    "city_info = {'Washington': {'out_file': './data/Washington-2016-Summary.csv'},\n",
    "             'NYC': {'out_file': './data/NYC-2016-Summary.csv'},\n",
    "            'Chicago': {'out_file': './data/Chicago-2016-Summary.csv'},\n",
    "            'BayArea':{'out_file':'./examples/BayArea-Y3-Summary.csv'}}\n",
    "\n",
    "for city, filenames in city_info.items():\n",
    "    print(city, average_trip_length(filenames['out_file']))"
   ]
  },
  {
   "cell_type": "markdown",
   "metadata": {},
   "source": [
    "**Question 4c**: Dig deeper into the question of trip duration based on ridership. Choose one city. Within that city, which type of user takes longer rides on average: Subscribers or Customers?\n",
    "\n",
    "**Answer**: \n",
    "- For **Washington**, the average Subscriber trip duration is 12.5 minutes and the average Customer trip duration is 41.7 minutes. \n",
    "- For **NYC**, the average Subscriber trip duration is 13.7 minutes and the average Customer trip duration is 33.0 minutes. \n",
    "- For **Chicago**, the average Subscriber trip duration is 12.1 minutes and the average Customer trip duration is 31.0 minutes. "
   ]
  },
  {
   "cell_type": "code",
   "execution_count": 11,
   "metadata": {},
   "outputs": [
    {
     "name": "stdout",
     "output_type": "stream",
     "text": [
      "Washington ('12.5', '41.7')\n",
      "NYC ('13.7', '33.0')\n",
      "Chicago ('12.1', '31.0')\n",
      "BayArea ('9.5', '54.6')\n"
     ]
    }
   ],
   "source": [
    "## Use this and additional cells to answer Question 4c. If you have    ##\n",
    "## not done so yet, consider revising some of your previous code to    ##\n",
    "## make use of functions for reusability.                              ##\n",
    "##                                                                     ##\n",
    "## TIP: For the Bay Area example data, you should find the average     ##\n",
    "## Subscriber trip duration to be 9.5 minutes and the average Customer ##\n",
    "## trip duration to be 54.6 minutes. Do the other cities have this     ##\n",
    "## level of difference?                                                ##\n",
    "\n",
    "def average_usertype(filename):\n",
    "    with open(filename,'r') as f_in:\n",
    "        reader = csv.DictReader(f_in)\n",
    "        T_sub_trip = 0\n",
    "        T_cus_trip = 0\n",
    "        n_sub = 0\n",
    "        n_cus = 0\n",
    "        for row in reader:\n",
    "            if row['user_type'] == 'Subscriber':\n",
    "                n_sub += 1\n",
    "                T_sub_trip += float(row['duration'])\n",
    "            elif row['user_type'] == 'Customer':\n",
    "                n_cus += 1\n",
    "                T_cus_trip += float(row['duration'])\n",
    "        a_sub_trip = T_sub_trip / n_sub\n",
    "        A_sub_trip = \"{0:.1f}\".format(a_sub_trip)\n",
    "        a_cus_trip = T_cus_trip / n_cus\n",
    "        A_cus_trip =\"{0:.1f}\".format(a_cus_trip)\n",
    "        return (A_sub_trip, A_cus_trip)\n",
    "    \n",
    "city_info = {'Washington': {'out_file': './data/Washington-2016-Summary.csv'},\n",
    "             'NYC': {'out_file': './data/NYC-2016-Summary.csv'},\n",
    "            'Chicago': {'out_file': './data/Chicago-2016-Summary.csv'},\n",
    "            'BayArea':{'out_file':'./examples/BayArea-Y3-Summary.csv'}}\n",
    "\n",
    "for city, filenames in city_info.items():\n",
    "    print(city, average_usertype(filenames['out_file']))"
   ]
  },
  {
   "cell_type": "markdown",
   "metadata": {},
   "source": [
    "<a id='visualizations'></a>\n",
    "### Visualizations\n",
    "\n",
    "The last set of values that you computed should have pulled up an interesting result. While the mean trip time for Subscribers is well under 30 minutes, the mean trip time for Customers is actually _above_ 30 minutes! It will be interesting for us to look at how the trip times are distributed. In order to do this, a new library will be introduced here, `matplotlib`. Run the cell below to load the library and to generate an example plot."
   ]
  },
  {
   "cell_type": "code",
   "execution_count": 12,
   "metadata": {},
   "outputs": [
    {
     "data": {
      "image/png": "[encoded data removed]",
      "text/plain": [
       "<matplotlib.figure.Figure at 0x7f7205ea3c50>"
      ]
     },
     "metadata": {},
     "output_type": "display_data"
    }
   ],
   "source": [
    "# load library\n",
    "import matplotlib.pyplot as plt\n",
    "\n",
    "# this is a 'magic word' that allows for plots to be displayed\n",
    "# inline with the notebook. If you want to know more, see:\n",
    "# http://ipython.readthedocs.io/en/stable/interactive/magics.html\n",
    "%matplotlib inline \n",
    "\n",
    "# example histogram, data taken from bay area sample\n",
    "data = [ 7.65,  8.92,  7.42,  5.50, 16.17,  4.20,  8.98,  9.62, 11.48, 14.33,\n",
    "        19.02, 21.53,  3.90,  7.97,  2.62,  2.67,  3.08, 14.40, 12.90,  7.83,\n",
    "        25.12,  8.30,  4.93, 12.43, 10.60,  6.17, 10.88,  4.78, 15.15,  3.53,\n",
    "         9.43, 13.32, 11.72,  9.85,  5.22, 15.10,  3.95,  3.17,  8.78,  1.88,\n",
    "         4.55, 12.68, 12.38,  9.78,  7.63,  6.45, 17.38, 11.90, 11.52,  8.63,]\n",
    "plt.hist(data)\n",
    "plt.title('Distribution of Trip Durations')\n",
    "plt.xlabel('Duration (m)')\n",
    "plt.show()"
   ]
  },
  {
   "cell_type": "markdown",
   "metadata": {},
   "source": [
    "In the above cell, we collected fifty trip times in a list, and passed this list as the first argument to the `.hist()` function. This function performs the computations and creates plotting objects for generating a histogram, but the plot is actually not rendered until the `.show()` function is executed. The `.title()` and `.xlabel()` functions provide some labeling for plot context.\n",
    "\n",
    "You will now use these functions to create a histogram of the trip times for the city you selected in question 4c. Don't separate the Subscribers and Customers for now: just collect all of the trip times and plot them."
   ]
  },
  {
   "cell_type": "code",
   "execution_count": 13,
   "metadata": {},
   "outputs": [
    {
     "data": {
      "image/png": "[encoded data removed]",
      "text/plain": [
       "<matplotlib.figure.Figure at 0x7f71fcd7f588>"
      ]
     },
     "metadata": {},
     "output_type": "display_data"
    },
    {
     "data": {
      "image/png": "[encoded data removed]",
      "text/plain": [
       "<matplotlib.figure.Figure at 0x7f71fcd08518>"
      ]
     },
     "metadata": {},
     "output_type": "display_data"
    }
   ],
   "source": [
    "## Use this and additional cells to collect all of the trip times as a list ##\n",
    "## and then use pyplot functions to generate a histogram of trip times.     ##\n",
    "def histo_gram(filename):\n",
    "    with open(filename,'r') as f_in:\n",
    "        reader = csv.DictReader(f_in)\n",
    "        trip_time = []\n",
    "        for row in reader:\n",
    "            trip_time.append(float(row['duration']))\n",
    "        return trip_time\n",
    "\n",
    "\n",
    "city_info = ['./data/Washington-2016-Summary.csv',\n",
    "            './data/Chicago-2016-Summary.csv']\n",
    "city_name=['Washington','Chicago','NYC']\n",
    "fig, axes = plt.subplots(1,2,figsize=(8,5))\n",
    "fig.suptitle('Distribution of Trip Durations', fontsize=14, fontweight='bold')\n",
    "for i, ax in enumerate(axes.flatten()):\n",
    "    ax.hist(histo_gram(city_info[i]))\n",
    "    ax.set_title(str(city_name[i]))\n",
    "    ax.set_ylabel('Number of users')\n",
    "    ax.set_xlabel('Duration (mins)')\n",
    "    ax.set_xlim(0,300)\n",
    "\n",
    "    \n",
    "plt.subplots_adjust(left=0.1,right=1.2,wspace=0.3)\n",
    "plt.show()\n",
    "\n",
    "filename='./data/NYC-2016-Summary.csv'\n",
    "plt.hist(histo_gram(filename))\n",
    "plt.title('NYC')\n",
    "plt.xlabel('Duration (minutes)')\n",
    "plt.xlim(0,10000)\n",
    "plt.show()"
   ]
  },
  {
   "cell_type": "markdown",
   "metadata": {},
   "source": [
    "If you followed the use of the `.hist()` and `.show()` functions exactly like in the example, you're probably looking at a plot that's completely unexpected. The plot consists of one extremely tall bar on the left, maybe a very short second bar, and a whole lot of empty space in the center and right. Take a look at the duration values on the x-axis. This suggests that there are some highly infrequent outliers in the data. Instead of reprocessing the data, you will use additional parameters with the `.hist()` function to limit the range of data that is plotted. Documentation for the function can be found [[here]](https://matplotlib.org/devdocs/api/_as_gen/matplotlib.pyplot.hist.html#matplotlib.pyplot.hist).\n",
    "\n",
    "**Question 5**: Use the parameters of the `.hist()` function to plot the distribution of trip times for the Subscribers in your selected city. Do the same thing for only the Customers. Add limits to the plots so that only trips of duration less than 75 minutes are plotted. As a bonus, set the plots up so that bars are in five-minute wide intervals. For each group, where is the peak of each distribution? How would you describe the shape of each distribution?\n",
    "\n",
    "**Answer**: \n",
    "- The peak duration distribution of Subscriber in Washington is 5-10 minutes, for customers is 15-20 minutes\n"
   ]
  },
  {
   "cell_type": "code",
   "execution_count": 14,
   "metadata": {
    "scrolled": true
   },
   "outputs": [
    {
     "data": {
      "image/png": "[encoded data removed]",
      "text/plain": [
       "<matplotlib.figure.Figure at 0x7f71fcd9df60>"
      ]
     },
     "metadata": {},
     "output_type": "display_data"
    }
   ],
   "source": [
    "## Use this and additional cells to answer Question 5. ##\n",
    "import numpy as np\n",
    "import matplotlib.mlab as mlab\n",
    "def histo_sub(filename):\n",
    "    with open(filename,'r') as f_in:\n",
    "        reader = csv.DictReader(f_in)\n",
    "        trip_time = []\n",
    "        for row in reader:\n",
    "            if row['user_type'] == 'Subscriber':\n",
    "                if float(row['duration']) <= 75:\n",
    "                    trip_time.append(float(row['duration']))\n",
    "        return (trip_time)   \n",
    "def histo_cus(filename):\n",
    "    with open(filename,'r') as f_in:\n",
    "        reader = csv.DictReader(f_in)\n",
    "        trip_time = []\n",
    "        for row in reader:\n",
    "            if row['user_type'] == 'Customer':\n",
    "                if float(row['duration']) <= 75:\n",
    "                    trip_time.append(float(row['duration']))\n",
    "        return (trip_time)\n",
    "\n",
    "filename='./data/Washington-2016-Summary.csv'\n",
    "fig = plt.figure(figsize=(10,5))\n",
    "\n",
    "ax1 = fig.add_subplot(121)\n",
    "n, bins, patches = ax1.hist(histo_sub(filename),15,label='Subscribers',facecolor='blue',edgecolor='black', alpha=0.75, align='mid')\n",
    "plt.xticks(np.arange(5,75,5))\n",
    "plt.xlabel('Durations (mins)')\n",
    "plt.ylabel('Normed number of users')\n",
    "plt.title('Distribution of Trip duration in Washington')\n",
    "plt.legend()\n",
    "\n",
    "ax2 = fig.add_subplot(122)\n",
    "n, bins, patches = ax2.hist(histo_cus(filename),15, normed=1,label='Subscribers',facecolor='green',edgecolor='black', alpha=0.75, align='mid')\n",
    "plt.xticks(np.arange(5,75,5))\n",
    "plt.xlabel('Durations (mins)')\n",
    "plt.ylabel('Normed Number of users')\n",
    "plt.title('Distribution of Trip duration in Washington')\n",
    "plt.legend()\n",
    "plt.xticks(np.arange(0,75,5))\n",
    "plt.subplots_adjust(left=0.1,right=1.2,wspace=0.3)\n",
    "plt.show();"
   ]
  },
  {
   "cell_type": "code",
   "execution_count": null,
   "metadata": {
    "collapsed": true
   },
   "outputs": [],
   "source": []
  },
  {
   "cell_type": "markdown",
   "metadata": {
    "collapsed": true
   },
   "source": [
    "<a id='eda_continued'></a>\n",
    "## Performing Your Own Analysis\n",
    "\n",
    "So far, you've performed an initial exploration into the data available. You have compared the relative volume of trips made between three U.S. cities and the ratio of trips made by Subscribers and Customers. For one of these cities, you have investigated differences between Subscribers and Customers in terms of how long a typical trip lasts. Now it is your turn to continue the exploration in a direction that you choose. Here are a few suggestions for questions to explore:\n",
    "\n",
    "- How does ridership differ by month or season? Which month / season has the highest ridership? Does the ratio of Subscriber trips to Customer trips change depending on the month or season?\n",
    "- Is the pattern of ridership different on the weekends versus weekdays? On what days are Subscribers most likely to use the system? What about Customers? Does the average duration of rides change depending on the day of the week?\n",
    "- During what time of day is the system used the most? Is there a difference in usage patterns for Subscribers and Customers?\n",
    "\n",
    "If any of the questions you posed in your answer to question 1 align with the bullet points above, this is a good opportunity to investigate one of them. As part of your investigation, you will need to create a visualization. If you want to create something other than a histogram, then you might want to consult the [Pyplot documentation](https://matplotlib.org/devdocs/api/pyplot_summary.html). In particular, if you are plotting values across a categorical variable (e.g. city, user type), a bar chart will be useful. The [documentation page for `.bar()`](https://matplotlib.org/devdocs/api/_as_gen/matplotlib.pyplot.bar.html#matplotlib.pyplot.bar) includes links at the bottom of the page with examples for you to build off of for your own use.\n",
    "\n",
    "**Question 6**: Continue the investigation by exploring another question that could be answered by the data available. Document the question you want to explore below. Your investigation should involve at least two variables and should compare at least two groups. You should also use at least one visualization as part of your explorations.\n",
    "\n",
    "**Answer**: Replace this text with your responses and include a visualization below!"
   ]
  },
  {
   "cell_type": "code",
   "execution_count": 1,
   "metadata": {
    "collapsed": true
   },
   "outputs": [],
   "source": [
    "# import needed packages\n",
    "import pandas as pd \n",
    "import matplotlib.pyplot as plt \n",
    "import numpy as np\n",
    "%matplotlib inline "
   ]
  },
  {
   "cell_type": "code",
   "execution_count": 101,
   "metadata": {
    "collapsed": true
   },
   "outputs": [],
   "source": [
    "df_Wcity = pd.read_csv('./data/Washington-2016-Summary.csv')"
   ]
  },
  {
   "cell_type": "code",
   "execution_count": 102,
   "metadata": {},
   "outputs": [
    {
     "name": "stdout",
     "output_type": "stream",
     "text": [
      "<class 'pandas.core.frame.DataFrame'>\n",
      "RangeIndex: 66326 entries, 0 to 66325\n",
      "Data columns (total 5 columns):\n",
      "duration       66326 non-null float64\n",
      "month          66326 non-null int64\n",
      "hour           66326 non-null int64\n",
      "day_of_week    66326 non-null object\n",
      "user_type      66326 non-null object\n",
      "dtypes: float64(1), int64(2), object(2)\n",
      "memory usage: 2.5+ MB\n"
     ]
    }
   ],
   "source": [
    "df_Wcity.info()"
   ]
  },
  {
   "cell_type": "code",
   "execution_count": 103,
   "metadata": {
    "collapsed": true
   },
   "outputs": [],
   "source": [
    "# create city array for Washington \n",
    "city_Washington = np.repeat('Washington',66326)"
   ]
  },
  {
   "cell_type": "code",
   "execution_count": 104,
   "metadata": {
    "collapsed": true
   },
   "outputs": [],
   "source": [
    "df_Wcity['city'] = city_Washington"
   ]
  },
  {
   "cell_type": "code",
   "execution_count": 105,
   "metadata": {
    "collapsed": true
   },
   "outputs": [],
   "source": [
    "df_Ncity = pd.read_csv('./data/NYC-2016-Summary.csv')"
   ]
  },
  {
   "cell_type": "code",
   "execution_count": 106,
   "metadata": {},
   "outputs": [
    {
     "name": "stdout",
     "output_type": "stream",
     "text": [
      "<class 'pandas.core.frame.DataFrame'>\n",
      "RangeIndex: 276798 entries, 0 to 276797\n",
      "Data columns (total 5 columns):\n",
      "duration       276798 non-null float64\n",
      "month          276798 non-null int64\n",
      "hour           276798 non-null int64\n",
      "day_of_week    276798 non-null object\n",
      "user_type      276081 non-null object\n",
      "dtypes: float64(1), int64(2), object(2)\n",
      "memory usage: 10.6+ MB\n"
     ]
    }
   ],
   "source": [
    "df_Ncity.info()"
   ]
  },
  {
   "cell_type": "code",
   "execution_count": 107,
   "metadata": {
    "collapsed": true
   },
   "outputs": [],
   "source": [
    "# create city array for NYC\n",
    "city_NYC = np.repeat('NYC',276798)"
   ]
  },
  {
   "cell_type": "code",
   "execution_count": 108,
   "metadata": {
    "collapsed": true
   },
   "outputs": [],
   "source": [
    "df_Ncity['city'] = city_NYC"
   ]
  },
  {
   "cell_type": "code",
   "execution_count": 109,
   "metadata": {
    "collapsed": true
   },
   "outputs": [],
   "source": [
    "df_Ccity = pd.read_csv('./data/Chicago-2016-Summary.csv')"
   ]
  },
  {
   "cell_type": "code",
   "execution_count": 110,
   "metadata": {},
   "outputs": [
    {
     "name": "stdout",
     "output_type": "stream",
     "text": [
      "<class 'pandas.core.frame.DataFrame'>\n",
      "RangeIndex: 72131 entries, 0 to 72130\n",
      "Data columns (total 5 columns):\n",
      "duration       72131 non-null float64\n",
      "month          72131 non-null int64\n",
      "hour           72131 non-null int64\n",
      "day_of_week    72131 non-null object\n",
      "user_type      72131 non-null object\n",
      "dtypes: float64(1), int64(2), object(2)\n",
      "memory usage: 2.8+ MB\n"
     ]
    }
   ],
   "source": [
    "df_Ccity.info()"
   ]
  },
  {
   "cell_type": "code",
   "execution_count": 111,
   "metadata": {
    "collapsed": true
   },
   "outputs": [],
   "source": [
    "# create city array for Chicago\n",
    "city_Chicago = np.repeat('Chicago', 72131)"
   ]
  },
  {
   "cell_type": "code",
   "execution_count": 112,
   "metadata": {
    "collapsed": true
   },
   "outputs": [],
   "source": [
    "df_Ccity['city']=city_Chicago"
   ]
  },
  {
   "cell_type": "code",
   "execution_count": 113,
   "metadata": {
    "collapsed": true
   },
   "outputs": [],
   "source": [
    "# create new dataframe named US_bikeshare, and append the dataframes\n",
    "US_bikeshare = df_Wcity.append(df_Ncity, ignore_index = True)"
   ]
  },
  {
   "cell_type": "code",
   "execution_count": 114,
   "metadata": {
    "collapsed": true
   },
   "outputs": [],
   "source": [
    "US_bikeshare = US_bikeshare.append(df_Ccity,ignore_index=True)"
   ]
  },
  {
   "cell_type": "code",
   "execution_count": 115,
   "metadata": {
    "collapsed": true
   },
   "outputs": [],
   "source": [
    "US_bikeshare.to_csv('./data/US_bikeshare.csv', index = False)"
   ]
  },
  {
   "cell_type": "code",
   "execution_count": 2,
   "metadata": {
    "collapsed": true
   },
   "outputs": [],
   "source": [
    "US_bikeshare = pd.read_csv('./data/US_bikeshare.csv')"
   ]
  },
  {
   "cell_type": "code",
   "execution_count": 3,
   "metadata": {},
   "outputs": [
    {
     "name": "stdout",
     "output_type": "stream",
     "text": [
      "<class 'pandas.core.frame.DataFrame'>\n",
      "RangeIndex: 415255 entries, 0 to 415254\n",
      "Data columns (total 6 columns):\n",
      "duration       415255 non-null float64\n",
      "month          415255 non-null int64\n",
      "hour           415255 non-null int64\n",
      "day_of_week    415255 non-null object\n",
      "user_type      414538 non-null object\n",
      "city           415255 non-null object\n",
      "dtypes: float64(1), int64(2), object(3)\n",
      "memory usage: 19.0+ MB\n"
     ]
    }
   ],
   "source": [
    "US_bikeshare.info()"
   ]
  },
  {
   "cell_type": "code",
   "execution_count": 4,
   "metadata": {
    "scrolled": true
   },
   "outputs": [
    {
     "data": {
      "text/plain": [
       "user_type   city      \n",
       "Customer    Chicago       30.979781\n",
       "            NYC           32.982004\n",
       "            Washington    41.678031\n",
       "Subscriber  Chicago       12.067202\n",
       "            NYC           13.680791\n",
       "            Washington    12.528120\n",
       "Name: duration, dtype: float64"
      ]
     },
     "execution_count": 4,
     "metadata": {},
     "output_type": "execute_result"
    }
   ],
   "source": [
    "US_bikeshare.groupby(['user_type','city']).mean()['duration']"
   ]
  },
  {
   "cell_type": "markdown",
   "metadata": {},
   "source": [
    "- From the result above we can know that:\n",
    "    - the means of duration for Cutomer users are 30.979781(Chicago),32.982004(NYC),41.678031(Washington), where Washington has the highest mean;\n",
    "    - the means of duration for Subscriber users are 12.067202(Chicago),13.680791(NYC),12.528120(Washington), where the three cities are roughly the same;"
   ]
  },
  {
   "cell_type": "code",
   "execution_count": 5,
   "metadata": {
    "scrolled": true
   },
   "outputs": [
    {
     "data": {
      "text/html": [
       "<div>\n",
       "<style>\n",
       "    .dataframe thead tr:only-child th {\n",
       "        text-align: right;\n",
       "    }\n",
       "\n",
       "    .dataframe thead th {\n",
       "        text-align: left;\n",
       "    }\n",
       "\n",
       "    .dataframe tbody tr th {\n",
       "        vertical-align: top;\n",
       "    }\n",
       "</style>\n",
       "<table border=\"1\" class=\"dataframe\">\n",
       "  <thead>\n",
       "    <tr style=\"text-align: right;\">\n",
       "      <th></th>\n",
       "      <th></th>\n",
       "      <th>count</th>\n",
       "      <th>mean</th>\n",
       "      <th>std</th>\n",
       "      <th>min</th>\n",
       "      <th>25%</th>\n",
       "      <th>50%</th>\n",
       "      <th>75%</th>\n",
       "      <th>max</th>\n",
       "    </tr>\n",
       "    <tr>\n",
       "      <th>user_type</th>\n",
       "      <th>city</th>\n",
       "      <th></th>\n",
       "      <th></th>\n",
       "      <th></th>\n",
       "      <th></th>\n",
       "      <th></th>\n",
       "      <th></th>\n",
       "      <th></th>\n",
       "      <th></th>\n",
       "    </tr>\n",
       "  </thead>\n",
       "  <tbody>\n",
       "    <tr>\n",
       "      <th rowspan=\"3\" valign=\"top\">Customer</th>\n",
       "      <th>Chicago</th>\n",
       "      <td>17149.0</td>\n",
       "      <td>30.979781</td>\n",
       "      <td>52.683638</td>\n",
       "      <td>1.000000</td>\n",
       "      <td>15.200000</td>\n",
       "      <td>22.566667</td>\n",
       "      <td>31.750000</td>\n",
       "      <td>1439.416667</td>\n",
       "    </tr>\n",
       "    <tr>\n",
       "      <th>NYC</th>\n",
       "      <td>30185.0</td>\n",
       "      <td>32.982004</td>\n",
       "      <td>143.051997</td>\n",
       "      <td>1.016667</td>\n",
       "      <td>13.916667</td>\n",
       "      <td>21.233333</td>\n",
       "      <td>29.083333</td>\n",
       "      <td>12099.150000</td>\n",
       "    </tr>\n",
       "    <tr>\n",
       "      <th>Washington</th>\n",
       "      <td>14573.0</td>\n",
       "      <td>41.678031</td>\n",
       "      <td>65.596410</td>\n",
       "      <td>1.024500</td>\n",
       "      <td>15.581067</td>\n",
       "      <td>24.896717</td>\n",
       "      <td>45.666333</td>\n",
       "      <td>1422.516367</td>\n",
       "    </tr>\n",
       "    <tr>\n",
       "      <th rowspan=\"3\" valign=\"top\">Subscriber</th>\n",
       "      <th>Chicago</th>\n",
       "      <td>54982.0</td>\n",
       "      <td>12.067202</td>\n",
       "      <td>21.560431</td>\n",
       "      <td>1.000000</td>\n",
       "      <td>5.950000</td>\n",
       "      <td>9.616667</td>\n",
       "      <td>15.266667</td>\n",
       "      <td>1272.450000</td>\n",
       "    </tr>\n",
       "    <tr>\n",
       "      <th>NYC</th>\n",
       "      <td>245896.0</td>\n",
       "      <td>13.680791</td>\n",
       "      <td>97.904245</td>\n",
       "      <td>1.016667</td>\n",
       "      <td>6.033333</td>\n",
       "      <td>9.716667</td>\n",
       "      <td>15.900000</td>\n",
       "      <td>39395.966667</td>\n",
       "    </tr>\n",
       "    <tr>\n",
       "      <th>Washington</th>\n",
       "      <td>51753.0</td>\n",
       "      <td>12.528120</td>\n",
       "      <td>24.852879</td>\n",
       "      <td>1.010550</td>\n",
       "      <td>6.008250</td>\n",
       "      <td>9.733217</td>\n",
       "      <td>15.275950</td>\n",
       "      <td>1373.064333</td>\n",
       "    </tr>\n",
       "  </tbody>\n",
       "</table>\n",
       "</div>"
      ],
      "text/plain": [
       "                          count       mean         std       min        25%  \\\n",
       "user_type  city                                                               \n",
       "Customer   Chicago      17149.0  30.979781   52.683638  1.000000  15.200000   \n",
       "           NYC          30185.0  32.982004  143.051997  1.016667  13.916667   \n",
       "           Washington   14573.0  41.678031   65.596410  1.024500  15.581067   \n",
       "Subscriber Chicago      54982.0  12.067202   21.560431  1.000000   5.950000   \n",
       "           NYC         245896.0  13.680791   97.904245  1.016667   6.033333   \n",
       "           Washington   51753.0  12.528120   24.852879  1.010550   6.008250   \n",
       "\n",
       "                             50%        75%           max  \n",
       "user_type  city                                            \n",
       "Customer   Chicago     22.566667  31.750000   1439.416667  \n",
       "           NYC         21.233333  29.083333  12099.150000  \n",
       "           Washington  24.896717  45.666333   1422.516367  \n",
       "Subscriber Chicago      9.616667  15.266667   1272.450000  \n",
       "           NYC          9.716667  15.900000  39395.966667  \n",
       "           Washington   9.733217  15.275950   1373.064333  "
      ]
     },
     "execution_count": 5,
     "metadata": {},
     "output_type": "execute_result"
    }
   ],
   "source": [
    "US_bikeshare.groupby(['user_type','city'])['duration'].describe()"
   ]
  },
  {
   "cell_type": "code",
   "execution_count": 6,
   "metadata": {
    "scrolled": true
   },
   "outputs": [
    {
     "data": {
      "text/plain": [
       "city        month\n",
       "Chicago     1         1901\n",
       "            2         2394\n",
       "            3         3719\n",
       "            4         4567\n",
       "            5         7211\n",
       "            6         9794\n",
       "            7        10286\n",
       "            8         9810\n",
       "            9         8700\n",
       "            10        7160\n",
       "            11        4811\n",
       "            12        1778\n",
       "NYC         1        10180\n",
       "            2        11170\n",
       "            3        18413\n",
       "            4        20160\n",
       "            5        24455\n",
       "            6        29242\n",
       "            7        27522\n",
       "            8        31104\n",
       "            9        32699\n",
       "            10       31145\n",
       "            11       23908\n",
       "            12       16083\n",
       "Washington  1         2434\n",
       "            2         2854\n",
       "            3         5571\n",
       "            4         5602\n",
       "            5         5768\n",
       "            6         7320\n",
       "            7         7341\n",
       "            8         7198\n",
       "            9         6878\n",
       "            10        6792\n",
       "            11        5214\n",
       "            12        3354\n",
       "Name: user_type, dtype: int64"
      ]
     },
     "execution_count": 6,
     "metadata": {},
     "output_type": "execute_result"
    }
   ],
   "source": [
    "month_counts = US_bikeshare.groupby(['city','month']).count()['user_type']\n",
    "month_counts"
   ]
  },
  {
   "cell_type": "code",
   "execution_count": 31,
   "metadata": {},
   "outputs": [
    {
     "data": {
      "image/png": "[encoded data removed]",
      "text/plain": [
       "<matplotlib.figure.Figure at 0x7f18ea2878d0>"
      ]
     },
     "metadata": {},
     "output_type": "display_data"
    }
   ],
   "source": [
    "fig = plt.figure(figsize=(10,6))\n",
    "plt.tight_layout()\n",
    "\n",
    "ax1 = fig.add_subplot(131)\n",
    "ax1 = month_counts['Washington'].plot(kind='bar', color='blue',label='Washington')\n",
    "plt.xlabel('month')\n",
    "plt.ylabel('Number of users')\n",
    "plt.title('Users distribute in different month')\n",
    "plt.legend()\n",
    "\n",
    "ax2 = fig.add_subplot(132)\n",
    "ax2 = month_counts['NYC'].plot(kind='bar',label='NYC',color='green')\n",
    "plt.xlabel('month')\n",
    "plt.title('Users distribute in different month')\n",
    "plt.legend()\n",
    "\n",
    "ax3 = fig.add_subplot(133)\n",
    "ax3 = month_counts['Chicago'].plot(kind='bar',label='Chicago',color = 'red')\n",
    "plt.xlabel('month')\n",
    "plt.title('Users distribute in different month')\n",
    "plt.legend()\n",
    "\n",
    "\n",
    "plt.subplots_adjust(left=0.1,right=1.5,wspace=0.3)\n",
    "plt.show();"
   ]
  },
  {
   "cell_type": "markdown",
   "metadata": {},
   "source": [
    "### From the figures above we can know that:\n",
    "- **Washington**'s highest ridership is in July, mostly users distribute from June to October , **NYC**'s highest ridership is in September, mostly users distribute from May to November; **Chicago**'s highest ridership is in July and mostly user distribute from May to October;"
   ]
  },
  {
   "cell_type": "code",
   "execution_count": 33,
   "metadata": {},
   "outputs": [
    {
     "data": {
      "image/png": "[encoded data removed]",
      "text/plain": [
       "<matplotlib.figure.Figure at 0x7f18ea3eae80>"
      ]
     },
     "metadata": {},
     "output_type": "display_data"
    }
   ],
   "source": [
    "fig = plt.figure(figsize=(10,6))\n",
    "plt.tight_layout()\n",
    "\n",
    "ax1 = fig.add_subplot(131)\n",
    "ax1 = month_counts['Washington'].plot(kind='box', color='blue',label='Washington')\n",
    "plt.xlabel('month')\n",
    "plt.ylabel('Number of users')\n",
    "plt.title('Users distribute in different month')\n",
    "plt.legend()\n",
    "\n",
    "ax2 = fig.add_subplot(132)\n",
    "ax2 = month_counts['NYC'].plot(kind='box',label='NYC',color='green')\n",
    "plt.xlabel('month')\n",
    "plt.title('Users distribute in different month')\n",
    "plt.legend()\n",
    "\n",
    "ax3 = fig.add_subplot(133)\n",
    "ax3 = month_counts['Chicago'].plot(kind='box',label='Chicago',color = 'red')\n",
    "plt.xlabel('month')\n",
    "plt.title('Users distribute in different month')\n",
    "plt.legend()\n",
    "plt.subplots_adjust(left=0.1,right=1.5,wspace=0.3)\n",
    "plt.show();"
   ]
  },
  {
   "cell_type": "code",
   "execution_count": 9,
   "metadata": {},
   "outputs": [
    {
     "data": {
      "text/plain": [
       "city\n",
       "Chicago        72131\n",
       "NYC           276081\n",
       "Washington     66326\n",
       "Name: user_type, dtype: int64"
      ]
     },
     "execution_count": 9,
     "metadata": {},
     "output_type": "execute_result"
    }
   ],
   "source": [
    "total_counts = US_bikeshare.groupby('city').count()['user_type']\n",
    "total_counts"
   ]
  },
  {
   "cell_type": "code",
   "execution_count": 10,
   "metadata": {
    "collapsed": true
   },
   "outputs": [],
   "source": [
    "Washington_proportion = month_counts['Washington'] / total_counts['Chicago']\n",
    "NYC_proportion = month_counts['NYC'] / total_counts['NYC']\n",
    "Chicago_proportion = month_counts['Chicago'] / total_counts['Chicago']"
   ]
  },
  {
   "cell_type": "code",
   "execution_count": 11,
   "metadata": {
    "collapsed": true
   },
   "outputs": [],
   "source": [
    "ind = np.arange(len(Washington_proportion))\n",
    "width = 0.35"
   ]
  },
  {
   "cell_type": "code",
   "execution_count": 13,
   "metadata": {},
   "outputs": [
    {
     "data": {
      "image/png": "[encoded data removed]",
      "text/plain": [
       "<matplotlib.figure.Figure at 0x7f2ccb7a0c50>"
      ]
     },
     "metadata": {},
     "output_type": "display_data"
    }
   ],
   "source": [
    "import matplotlib \n",
    "Washington_bars = plt.bar(ind, Washington_proportion, width, color='blue', alpha =.7, label = 'Washington')\n",
    "NYC_bars = plt.bar(ind+width, NYC_proportion, width, color='green', alpha=.7, label = 'NYC')\n",
    "Chicago_bars = plt.bar(ind+width+width, Chicago_proportion, width, color='red', alpha=.7, label='Chicago')\n",
    "plt.ylabel('Proportion')\n",
    "plt.xlabel('Month')\n",
    "plt.title('User proportion by month in different city')\n",
    "locations = ind + width / 2  # xtick locations\n",
    "labels = ['1', '2', '3', '4', '5', '6', '7','8','9','10','11','12']  # xtick labels\n",
    "plt.xticks(locations, labels)\n",
    "# legend\n",
    "plt.legend()\n",
    "plt.show()\n",
    "matplotlib.rc('figure', figsize=(10, 5));"
   ]
  },
  {
   "cell_type": "markdown",
   "metadata": {},
   "source": [
    "### From the figure above we can compare the difference among three cities in each month.\n"
   ]
  },
  {
   "cell_type": "code",
   "execution_count": 14,
   "metadata": {
    "collapsed": true
   },
   "outputs": [],
   "source": [
    "df_user = US_bikeshare.groupby(['city','user_type','month']).count()['duration']"
   ]
  },
  {
   "cell_type": "code",
   "execution_count": 15,
   "metadata": {
    "collapsed": true
   },
   "outputs": [],
   "source": [
    "Washington_usertype = df_user['Washington']\n",
    "NYC_usertype = df_user['NYC']\n",
    "Chicago_usertype = df_user['Chicago']"
   ]
  },
  {
   "cell_type": "code",
   "execution_count": 16,
   "metadata": {},
   "outputs": [
    {
     "data": {
      "image/png": "[encoded data removed]",
      "text/plain": [
       "<matplotlib.figure.Figure at 0x7f2ccb86e940>"
      ]
     },
     "metadata": {},
     "output_type": "display_data"
    }
   ],
   "source": [
    "fig = plt.figure(figsize=(15,5))\n",
    "\n",
    "ax1 = fig.add_subplot(131)\n",
    "ax1 = Washington_usertype.plot(kind='bar', color='blue',label='Washington')\n",
    "plt.xlabel('month')\n",
    "plt.ylabel('Number of users')\n",
    "plt.title('Users distribute in different month')\n",
    "plt.legend()\n",
    "\n",
    "ax2 = fig.add_subplot(132)\n",
    "ax2 = NYC_usertype.plot(kind='bar',label='NYC',color='green')\n",
    "plt.xlabel('month')\n",
    "plt.title('Users distribute in different month')\n",
    "plt.legend()\n",
    "\n",
    "ax3 = fig.add_subplot(133)\n",
    "ax3 = Chicago_usertype.plot(kind='bar',label='Chicago',color = 'red')\n",
    "plt.xlabel('month')\n",
    "plt.title('Users distribute in different month')\n",
    "plt.legend()\n",
    "\n",
    "plt.subplots_adjust(left=0.1,right=1.5,wspace=0.1)\n",
    "plt.show()"
   ]
  },
  {
   "cell_type": "markdown",
   "metadata": {},
   "source": [
    "### From the figures above we can see that:\n",
    "- **Washington**: Customer user mainly use the bike system during June to October; Subscriber users mainly use the bike system during March to November;\n",
    "- **NYC**: Customer user mainly use the bike system during April to October; Subscriber users mainly use the bike system during May to November;\n",
    "- **Chicago**: Customer user mainly use the bike system during May to September; Subscriber users mainly use the bike system during May to October;"
   ]
  },
  {
   "cell_type": "code",
   "execution_count": 17,
   "metadata": {
    "collapsed": true
   },
   "outputs": [],
   "source": [
    "hour_counts = US_bikeshare.groupby(['city','hour']).count()['user_type']"
   ]
  },
  {
   "cell_type": "code",
   "execution_count": 19,
   "metadata": {
    "scrolled": true
   },
   "outputs": [
    {
     "data": {
      "image/png": "[encoded data removed]",
      "text/plain": [
       "<matplotlib.figure.Figure at 0x7f2ccb2f1e48>"
      ]
     },
     "metadata": {},
     "output_type": "display_data"
    }
   ],
   "source": [
    "fig = plt.figure(figsize=(15,5))\n",
    "\n",
    "ax1 = fig.add_subplot(131)\n",
    "ax1 = hour_counts['Washington'].plot(kind='bar', color='blue',label='Washington')\n",
    "plt.xlabel('Hour of the day')\n",
    "plt.ylabel('Number of users')\n",
    "plt.title('Users distribute in different hour of the day')\n",
    "plt.legend()\n",
    "\n",
    "ax2 = fig.add_subplot(132)\n",
    "ax2 = hour_counts['NYC'].plot(kind='bar',label='NYC',color='green')\n",
    "plt.xlabel('Hour of the day')\n",
    "plt.title('Users distribute in different hour of the day')\n",
    "plt.legend()\n",
    "\n",
    "ax3 = fig.add_subplot(133)\n",
    "ax3 = hour_counts['Chicago'].plot(kind='bar',label='Chicago',color = 'red')\n",
    "plt.xlabel('Hour of the day')\n",
    "plt.title('Users distribute in different hour of the day')\n",
    "plt.legend()\n",
    "\n",
    "plt.subplots_adjust(left=0.1,right=1.5,wspace=0.1)\n",
    "plt.show()"
   ]
  },
  {
   "cell_type": "markdown",
   "metadata": {},
   "source": [
    "### From the figures above we can see that:\n",
    "- **Washington**: The users mainly use the bike during 7:00-9:00 and 16:00-19:00; The highest user number appeara at 17:00;\n",
    "- **NYC**: The users mainly use the bike during 7:00-9:00 and 15:00-19:00;The highest user number appeara at 17:00;\n",
    "- **Chicago**: The users mainly use the bike during 7:00-9:00 and 15:00-19:00; The highest user number appeara at 17:00;"
   ]
  },
  {
   "cell_type": "code",
   "execution_count": 20,
   "metadata": {
    "collapsed": true
   },
   "outputs": [],
   "source": [
    "W_hour_proportion = hour_counts['Washington'] / total_counts['Chicago']\n",
    "N_hour_proportion = hour_counts['NYC'] / total_counts['NYC']\n",
    "C_hour_proportion = hour_counts['Chicago'] / total_counts['Chicago']"
   ]
  },
  {
   "cell_type": "code",
   "execution_count": 21,
   "metadata": {
    "collapsed": true
   },
   "outputs": [],
   "source": [
    "ind2 = np.arange(len(W_hour_proportion))\n",
    "width = 0.35"
   ]
  },
  {
   "cell_type": "code",
   "execution_count": 22,
   "metadata": {},
   "outputs": [
    {
     "data": {
      "image/png": "[encoded data removed]",
      "text/plain": [
       "<matplotlib.figure.Figure at 0x7f2ccb1837b8>"
      ]
     },
     "metadata": {},
     "output_type": "display_data"
    }
   ],
   "source": [
    "import matplotlib\n",
    "W_hour_bars = plt.bar(ind2, W_hour_proportion, width, color='blue', alpha =.7, label = 'Washington')\n",
    "N_hour_bars = plt.bar(ind2+width, N_hour_proportion, width, color='green', alpha=.7, label = 'NYC')\n",
    "C_hour_bars = plt.bar(ind2+width+width, C_hour_proportion, width, color='red', alpha=.7, label='Chicago')\n",
    "plt.ylabel('Proportion')\n",
    "plt.xlabel('Hour of the day')\n",
    "plt.title('User proportion by hour of the day in different city')\n",
    "locations = ind2 + width / 3  # xtick locations\n",
    "labels2 = ['0', '1', '2', '3', '4', '5', '6','7','8','9','10','11','12','13','14','15','16','17','18','19','20','21','22','23']  # xtick labels\n",
    "plt.xticks(locations, labels2)\n",
    "# legend\n",
    "plt.legend()\n",
    "plt.show()\n",
    "matplotlib.rc('figure', figsize=(10, 5));"
   ]
  },
  {
   "cell_type": "markdown",
   "metadata": {},
   "source": [
    "### From the figure above we can compare the difference between 3 cities of the user for using the bike in different hour of the day."
   ]
  },
  {
   "cell_type": "code",
   "execution_count": 23,
   "metadata": {
    "collapsed": true
   },
   "outputs": [],
   "source": [
    "hour_user = US_bikeshare.groupby(['city','user_type','hour']).count()['duration']"
   ]
  },
  {
   "cell_type": "code",
   "execution_count": 24,
   "metadata": {
    "collapsed": true
   },
   "outputs": [],
   "source": [
    "W_hour_usertype = hour_user['Washington']\n",
    "N_hour_usertype = hour_user['NYC']\n",
    "C_hour_usertype = hour_user['Chicago']"
   ]
  },
  {
   "cell_type": "code",
   "execution_count": 25,
   "metadata": {},
   "outputs": [
    {
     "data": {
      "image/png": "[encoded data removed]",
      "text/plain": [
       "<matplotlib.figure.Figure at 0x7f2ccafeac88>"
      ]
     },
     "metadata": {},
     "output_type": "display_data"
    }
   ],
   "source": [
    "fig = plt.figure(figsize=(20,5))\n",
    "\n",
    "ax1 = fig.add_subplot(131)\n",
    "ax1 = W_hour_usertype.plot(kind='bar', color='blue',label='Washington')\n",
    "plt.xlabel('Hour of the day')\n",
    "plt.ylabel('Number of users')\n",
    "plt.title('Users distribute in different hour of the day')\n",
    "plt.legend()\n",
    "\n",
    "ax2 = fig.add_subplot(132)\n",
    "ax2 = N_hour_usertype.plot(kind='bar',label='NYC',color='green')\n",
    "plt.xlabel('Number of users')\n",
    "plt.title('Users distribute in different hour of the day')\n",
    "plt.legend()\n",
    "\n",
    "ax3 = fig.add_subplot(133)\n",
    "ax3 = C_hour_usertype.plot(kind='bar',label='Chicago',color = 'red')\n",
    "plt.xlabel('Number of users')\n",
    "plt.title('Users distribute in different hour of the day')\n",
    "plt.legend()\n",
    "\n",
    "plt.subplots_adjust(left=0.1,right=1.5,wspace=0.1)\n",
    "plt.show()"
   ]
  },
  {
   "cell_type": "markdown",
   "metadata": {},
   "source": [
    "### From the figures above we can see that:\n",
    "- **Washington**: For Customer users, they mainly use the bike during 10:00 - 19:00, and the highest users number appears at 14:00, while for Subscriber users, they mainly use the bike during 7:00-9:00 and 16:00-19:00, which maybe they ride the bike to work and back home; \n",
    "- **NYC**: For Customer users, they mainly use the bike during 11:00 - 18:00, and the highest users number appears at 14:00, while for Subscriber users, they mainly use the bike during 7:00-9:00 and 16:00-19:00, which maybe they ride the bike to work and back home; \n",
    "- **Chicago**： For Customer users, they mainly use the bike during 11:00 - 17:00, and the highest users number appears at 14:00, while for Subscriber users, they mainly use the bike during 7:00-8:00 and 16:00-18:00, which maybe they ride the bike to work and back home; "
   ]
  },
  {
   "cell_type": "code",
   "execution_count": 26,
   "metadata": {
    "collapsed": true
   },
   "outputs": [],
   "source": [
    "week_counts = US_bikeshare.groupby(['city','day_of_week']).count()['user_type']"
   ]
  },
  {
   "cell_type": "code",
   "execution_count": 27,
   "metadata": {},
   "outputs": [
    {
     "data": {
      "image/png": "[encoded data removed]",
      "text/plain": [
       "<matplotlib.figure.Figure at 0x7f2ccb8fab70>"
      ]
     },
     "metadata": {},
     "output_type": "display_data"
    }
   ],
   "source": [
    "fig = plt.figure(figsize=(15,7))\n",
    "\n",
    "ax1 = fig.add_subplot(131)\n",
    "ax1 = week_counts['Washington'].plot(kind='bar', color='blue',label='Washington')\n",
    "plt.xlabel('Day of the week')\n",
    "plt.ylabel('Number of users')\n",
    "plt.title('Users distribute in day of the week')\n",
    "plt.legend()\n",
    "\n",
    "ax2 = fig.add_subplot(132)\n",
    "ax2 = week_counts['NYC'].plot(kind='bar',label='NYC',color='green')\n",
    "plt.xlabel('Day of the week')\n",
    "plt.title('Users distribute in day of the week')\n",
    "plt.legend()\n",
    "\n",
    "ax3 = fig.add_subplot(133)\n",
    "ax3 = week_counts['Chicago'].plot(kind='bar',label='Chicago',color = 'red')\n",
    "plt.xlabel('Day of the week')\n",
    "plt.title('Users distribute in day of the week')\n",
    "plt.legend()\n",
    "\n",
    "plt.subplots_adjust(left=0.1,right=1.5,wspace=0.1)\n",
    "plt.show()"
   ]
  },
  {
   "cell_type": "markdown",
   "metadata": {},
   "source": [
    "### From the figure above we can see that: \n",
    "- The users during weekdays more than during weekends in three cities；"
   ]
  },
  {
   "cell_type": "code",
   "execution_count": 28,
   "metadata": {
    "collapsed": true
   },
   "outputs": [],
   "source": [
    "W_day_proportion = week_counts['Washington'] / total_counts['Chicago']\n",
    "N_day_proportion = week_counts['NYC'] / total_counts['NYC']\n",
    "C_day_proportion = week_counts['Chicago'] / total_counts['Chicago']"
   ]
  },
  {
   "cell_type": "code",
   "execution_count": 29,
   "metadata": {},
   "outputs": [
    {
     "data": {
      "text/plain": [
       "array([0, 1, 2, 3, 4, 5, 6])"
      ]
     },
     "execution_count": 29,
     "metadata": {},
     "output_type": "execute_result"
    }
   ],
   "source": [
    "ind3 = np.arange(len(W_day_proportion))\n",
    "width = 0.35\n",
    "ind3"
   ]
  },
  {
   "cell_type": "code",
   "execution_count": 44,
   "metadata": {},
   "outputs": [
    {
     "data": {
      "image/png": "[encoded data removed]",
      "text/plain": [
       "<matplotlib.figure.Figure at 0x7f2ccb456160>"
      ]
     },
     "metadata": {},
     "output_type": "display_data"
    }
   ],
   "source": [
    "import matplotlib\n",
    "W_day_bars = plt.bar(ind3, W_day_proportion, width, color='blue', alpha =.7, label = 'Washington')\n",
    "N_day_bars = plt.bar(ind3+width, N_day_proportion, width, color='green', alpha=.7, label = 'NYC')\n",
    "C_day_bars = plt.bar(ind3+width+width, C_day_proportion, width, color='red', alpha=.7, label='Chicago')\n",
    "plt.ylabel('Proportion')\n",
    "plt.xlabel('Day of the week')\n",
    "plt.title('User proportion by day of the week in different city')\n",
    "locations = ind3 + width / 3  # xtick locations\n",
    "labels2 = ['Mon', 'Tue', 'Wed', 'Thu', 'Fri', 'Sat', 'Sun']  # xtick labels\n",
    "plt.xticks(locations, labels2)\n",
    "# legend\n",
    "plt.legend()\n",
    "plt.show()\n",
    "matplotlib.rc('figure', figsize=(13, 6));"
   ]
  },
  {
   "cell_type": "markdown",
   "metadata": {},
   "source": [
    "<a id='conclusions'></a>\n",
    "## Conclusions\n",
    "\n",
    "Congratulations on completing the project! This is only a sampling of the data analysis process: from generating questions, wrangling the data, and to exploring the data. Normally, at this point in the data analysis process, you might want to draw conclusions about the data by performing a statistical test or fitting the data to a model for making predictions. There are also a lot of potential analyses that could be performed on the data which are not possible with only the data provided. For example, detailed location data has not been investigated. Where are the most commonly used docks? What are the most common routes? As another example, weather has potential to have a large impact on daily ridership. How much is ridership impacted when there is rain or snow? Are subscribers or customers affected more by changes in weather?\n",
    "\n",
    "**Question 7**: Putting the bike share data aside, think of a topic or field of interest where you would like to be able to apply the techniques of data science. What would you like to be able to learn from your chosen subject?\n",
    "\n",
    "**Answer**: \n",
    "- For me I may choose the field related to finance. I'd like to learn how to use financial data to spot trends and extrapolate into the future which can help the employers and clients make the best investing decisioins.\n"
   ]
  }
 ],
 "metadata": {
  "anaconda-cloud": {},
  "kernelspec": {
   "display_name": "Python 3",
   "language": "python",
   "name": "python3"
  },
  "language_info": {
   "codemirror_mode": {
    "name": "ipython",
    "version": 3
   },
   "file_extension": ".py",
   "mimetype": "text/x-python",
   "name": "python",
   "nbconvert_exporter": "python",
   "pygments_lexer": "ipython3",
   "version": "3.6.1"
  }
 },
 "nbformat": 4,
 "nbformat_minor": 1
}
